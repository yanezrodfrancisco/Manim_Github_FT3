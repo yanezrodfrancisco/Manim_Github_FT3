{
 "cells": [
  {
   "cell_type": "markdown",
   "id": "55911bda-de9c-4eff-88f1-4f26800545cb",
   "metadata": {},
   "source": [
    "# Tutorial de MANIM"
   ]
  },
  {
   "cell_type": "markdown",
   "id": "12d9162d-52da-4a4f-8055-20a205f59b41",
   "metadata": {},
   "source": [
    "[**Manim**](https://docs.manim.community/en/stable/index.html, 'https://docs.manim.community/en/stable/index.html') es una herramienta de animaciones desarrollada en **Python** por Grant Sanderson, el creador del canal de Youtube 3Blue1Brown.\n",
    "Con este paquete, se pueden desarrollar animaciones para representar y explicar conceptos matemáticos de lo más diversos.  \n",
    "El objetivo de este cuaderno enseñar unos conceptos básicos para poder empezar a hacer animaciones sencillas.\n",
    "\n",
    "He estructurado el cuaderno de la siguiente forma:\n",
    "\n",
    "1. Conceptos de Python previos\n",
    "2. Escenas\n",
    "3. MObjects\n",
    "4. Animaciones\n",
    "5. Detalles finales\n",
    "\n",
    "Recomiendo ir ejecutando las celdas de código que vayan apareciendo si queréis ir viendo lo que explico poco a poco. Y ante cualquier duda o curiosidad ir a la [API de Manim](https://docs.manim.community/en/stable/index.html, 'https://docs.manim.community/en/stable/index.html') que os dejo en el enlace."
   ]
  },
  {
   "cell_type": "markdown",
   "id": "474e1cc1-d443-45ab-a127-de94bb12da89",
   "metadata": {},
   "source": [
    "## 1. Conceptos de Python previos"
   ]
  },
  {
   "cell_type": "markdown",
   "id": "ada6aa63-82de-4b66-aa47-d702a0400099",
   "metadata": {},
   "source": [
    "Para entender cómo funciona Manim **es conveniente saber Python**. Dejaré anotados los conceptos de Python que considero relevantes manejar para usar manim adecuadamente. **No es obligatorio conocer todos** los que voy a poner antes de usar manim, pero cuantos más conozcas, mas fácil se te hará entender todo lo que vendrá a continuación:\n",
    "\n",
    "* Tipos de variables: enteros, flotantes, cadenas, ... \n",
    "* Tipos de conjuntos de datos: listas, tuplas, diccionarios, conjuntos, ...\n",
    "* Bucles: Tipos de bucles (for y while) e iteradores (range, enumarate, zip, ...)\n",
    "* Listas por comprensión (list comprehension)\n",
    "* Funciones: Funciones convencionales y lambda\n",
    "* Programación Orientada a Objetos: Conceptos de clase y herencia. Objetos con métodos y atributos.\n",
    "* Librerías: Numpy y Scipy"
   ]
  },
  {
   "cell_type": "markdown",
   "id": "53171123-6553-4a0e-82f4-8d205561c94d",
   "metadata": {},
   "source": [
    "Con los conceptos de Python listados, pasemos a desarrollar los tres conceptos clave que os permitirá comenzar a manejar manim: \n",
    "1. *Escenas*\n",
    "2. *Mobjects*\n",
    "3. *Animaciones*\n",
    "\n",
    "Pero para comenzar con los ejemplos, es necesario importar manim. También importaré numpy , ya que lo usaremos más adelante"
   ]
  },
  {
   "cell_type": "code",
   "execution_count": 1,
   "id": "a799bdb1-9ed4-437e-9a4b-12d502f9a683",
   "metadata": {},
   "outputs": [],
   "source": [
    "from manim import *\n",
    "import numpy as np"
   ]
  },
  {
   "cell_type": "markdown",
   "id": "534ea992-fd9e-42a7-ad39-db11b819e6b2",
   "metadata": {},
   "source": [
    "## 2. Escenas"
   ]
  },
  {
   "cell_type": "markdown",
   "id": "4556bea3-ed83-4c7c-a2a5-7cd2dba70fc8",
   "metadata": {},
   "source": [
    "Vamos a empezar por algo muy sencillo, pero elemental. **Las escenas son unas clases de Manim** desde las que vamos a poder comenzar a crear las animaciones.\n",
    "Con ejemplo veréis inmediatemente cómo se define una escena."
   ]
  },
  {
   "cell_type": "code",
   "execution_count": 3,
   "id": "dc631d75-9b41-42d8-b667-60749ed2710d",
   "metadata": {},
   "outputs": [
    {
     "data": {
      "text/html": [
       "<pre style=\"white-space:pre;overflow-x:auto;line-height:normal;font-family:Menlo,'DejaVu Sans Mono',consolas,'Courier New',monospace\">Manim Community <span style=\"color: #008000; text-decoration-color: #008000\">v0.18.1</span>\n",
       "\n",
       "</pre>\n"
      ],
      "text/plain": [
       "Manim Community \u001b[32mv0.\u001b[0m\u001b[32m18.1\u001b[0m\n",
       "\n"
      ]
     },
     "metadata": {},
     "output_type": "display_data"
    },
    {
     "data": {
      "text/html": [
       "<pre style=\"white-space:pre;overflow-x:auto;line-height:normal;font-family:Menlo,'DejaVu Sans Mono',consolas,'Courier New',monospace\"><span style=\"color: #7fbfbf; text-decoration-color: #7fbfbf\">[01/08/25 14:03:42] </span><span style=\"color: #008000; text-decoration-color: #008000\">INFO    </span>                                                               <a href=\"file:///mnt/netapp1/Store_CESGA/home/cesga/fyanez/manim_ce/manim_env/lib/python3.10/site-packages/manim/scene/scene_file_writer.py\" target=\"_blank\"><span style=\"color: #7f7f7f; text-decoration-color: #7f7f7f\">scene_file_writer.py</span></a><span style=\"color: #7f7f7f; text-decoration-color: #7f7f7f\">:</span><a href=\"file:///mnt/netapp1/Store_CESGA/home/cesga/fyanez/manim_ce/manim_env/lib/python3.10/site-packages/manim/scene/scene_file_writer.py#737\" target=\"_blank\"><span style=\"color: #7f7f7f; text-decoration-color: #7f7f7f\">737</span></a>\n",
       "<span style=\"color: #7fbfbf; text-decoration-color: #7fbfbf\">                    </span>         <span style=\"color: #808000; text-decoration-color: #808000; font-weight: bold\">File</span> ready at                                                 <span style=\"color: #7f7f7f; text-decoration-color: #7f7f7f\">                        </span>\n",
       "<span style=\"color: #7fbfbf; text-decoration-color: #7fbfbf\">                    </span>         <span style=\"color: #008000; text-decoration-color: #008000\">'/mnt/netapp1/Store_CESGA/home/cesga/fyanez/manim_ce/media/im</span> <span style=\"color: #7f7f7f; text-decoration-color: #7f7f7f\">                        </span>\n",
       "<span style=\"color: #7fbfbf; text-decoration-color: #7fbfbf\">                    </span>         <span style=\"color: #008000; text-decoration-color: #008000\">ages/manim_ce/EscenaConPunto_ManimCE_v0.18.1.png'</span>             <span style=\"color: #7f7f7f; text-decoration-color: #7f7f7f\">                        </span>\n",
       "<span style=\"color: #7fbfbf; text-decoration-color: #7fbfbf\">                    </span>                                                                       <span style=\"color: #7f7f7f; text-decoration-color: #7f7f7f\">                        </span>\n",
       "</pre>\n"
      ],
      "text/plain": [
       "\u001b[2;36m[01/08/25 14:03:42]\u001b[0m\u001b[2;36m \u001b[0m\u001b[32mINFO    \u001b[0m                                                               \u001b]8;id=961668;file:///mnt/netapp1/Store_CESGA/home/cesga/fyanez/manim_ce/manim_env/lib/python3.10/site-packages/manim/scene/scene_file_writer.py\u001b\\\u001b[2mscene_file_writer.py\u001b[0m\u001b]8;;\u001b\\\u001b[2m:\u001b[0m\u001b]8;id=696794;file:///mnt/netapp1/Store_CESGA/home/cesga/fyanez/manim_ce/manim_env/lib/python3.10/site-packages/manim/scene/scene_file_writer.py#737\u001b\\\u001b[2m737\u001b[0m\u001b]8;;\u001b\\\n",
       "\u001b[2;36m                    \u001b[0m         \u001b[1;33mFile\u001b[0m ready at                                                 \u001b[2m                        \u001b[0m\n",
       "\u001b[2;36m                    \u001b[0m         \u001b[32m'/mnt/netapp1/Store_CESGA/home/cesga/fyanez/manim_ce/media/im\u001b[0m \u001b[2m                        \u001b[0m\n",
       "\u001b[2;36m                    \u001b[0m         \u001b[32mages/manim_ce/EscenaConPunto_ManimCE_v0.18.1.png'\u001b[0m             \u001b[2m                        \u001b[0m\n",
       "\u001b[2;36m                    \u001b[0m                                                                       \u001b[2m                        \u001b[0m\n"
      ]
     },
     "metadata": {},
     "output_type": "display_data"
    },
    {
     "data": {
      "text/html": [
       "<pre style=\"white-space:pre;overflow-x:auto;line-height:normal;font-family:Menlo,'DejaVu Sans Mono',consolas,'Courier New',monospace\"><span style=\"color: #7fbfbf; text-decoration-color: #7fbfbf\">                    </span><span style=\"color: #008000; text-decoration-color: #008000\">INFO    </span> <span style=\"color: #808000; text-decoration-color: #808000; font-weight: bold\">Rendered</span> EscenaConPunto                                                   <a href=\"file:///mnt/netapp1/Store_CESGA/home/cesga/fyanez/manim_ce/manim_env/lib/python3.10/site-packages/manim/scene/scene.py\" target=\"_blank\"><span style=\"color: #7f7f7f; text-decoration-color: #7f7f7f\">scene.py</span></a><span style=\"color: #7f7f7f; text-decoration-color: #7f7f7f\">:</span><a href=\"file:///mnt/netapp1/Store_CESGA/home/cesga/fyanez/manim_ce/manim_env/lib/python3.10/site-packages/manim/scene/scene.py#247\" target=\"_blank\"><span style=\"color: #7f7f7f; text-decoration-color: #7f7f7f\">247</span></a>\n",
       "<span style=\"color: #7fbfbf; text-decoration-color: #7fbfbf\">                    </span>         <span style=\"color: #808000; text-decoration-color: #808000; font-weight: bold\">Played</span> <span style=\"color: #008000; text-decoration-color: #008000\">0</span> <span style=\"color: #808000; text-decoration-color: #808000; font-weight: bold\">animations</span>                                                       <span style=\"color: #7f7f7f; text-decoration-color: #7f7f7f\">            </span>\n",
       "</pre>\n"
      ],
      "text/plain": [
       "\u001b[2;36m                   \u001b[0m\u001b[2;36m \u001b[0m\u001b[32mINFO    \u001b[0m \u001b[1;33mRendered\u001b[0m EscenaConPunto                                                   \u001b]8;id=221281;file:///mnt/netapp1/Store_CESGA/home/cesga/fyanez/manim_ce/manim_env/lib/python3.10/site-packages/manim/scene/scene.py\u001b\\\u001b[2mscene.py\u001b[0m\u001b]8;;\u001b\\\u001b[2m:\u001b[0m\u001b]8;id=26943;file:///mnt/netapp1/Store_CESGA/home/cesga/fyanez/manim_ce/manim_env/lib/python3.10/site-packages/manim/scene/scene.py#247\u001b\\\u001b[2m247\u001b[0m\u001b]8;;\u001b\\\n",
       "\u001b[2;36m                    \u001b[0m         \u001b[1;33mPlayed\u001b[0m \u001b[32m0\u001b[0m \u001b[1;33manimations\u001b[0m                                                       \u001b[2m            \u001b[0m\n"
      ]
     },
     "metadata": {},
     "output_type": "display_data"
    },
    {
     "data": {
      "image/png": "[encoded data removed]",
      "text/plain": [
       "<IPython.core.display.Image object>"
      ]
     },
     "metadata": {},
     "output_type": "display_data"
    }
   ],
   "source": [
    "%%manim -ql -vINFO  EscenaConPunto\n",
    "\n",
    "class EscenaConPunto(Scene):\n",
    "    \n",
    "    def construct(self):\n",
    "        \n",
    "        self.add(Dot())"
   ]
  },
  {
   "cell_type": "markdown",
   "id": "602fa927-a173-45bc-97f3-e0567c8adce8",
   "metadata": {},
   "source": [
    "Comentemos el código línea a línea.\n",
    "```\n",
    "%%manim -ql -vINFO  EscenaConPunto\n",
    "```\n",
    "En esta primera linea le decimos a manim que anime una escena llamada `EscenaConPunto`, que este en baja calidad (`-ql` es quality low. Podríamos poner calidad media con `-qm,` alta con `-qh`, o máxima con `-qk`) y que nos suelte información del proceso de animación (`-vINFO`)  \n",
    "\n",
    "```\n",
    "class EscenaConPunto(Scene):\n",
    "```\n",
    "Aquí definimos la escena que queremos animar: Su nombre (`EscenaConPunto`) y de qué clase de Escena va a heredar los métodos y atributos. En nuestro caso, será la clase `Scene`, la más básica.\n",
    "\n",
    "```\n",
    "    def construct(self):\n",
    "```\n",
    "Aquí definimos el constructor de la clase `EscenaConPunto`. No entraré en muchos detalles, ya que esto tiene más que ver con Python que con manim, pero dejémoslo en que cualquier cosa que querramos que aparezca en la escena ha de estar dentro del constructor.\n",
    "```\n",
    "        self.add(Dot())\n",
    "```\n",
    "Ahí lo que se está haciendo es usar el método `add` de la clase `Scene` para añadir un **MObject** en nuestra animación (en este ejemplo, un punto). Como veremos en un futuro ejemplo, si queremos hacer una **animación**, se usará el método `play` de `Scene` \n",
    "\n",
    "Lo que quiero recalcar es que **dentro del parentesis de la clase `EscenaConPunto()`, puedes poner muchos tipos de escenas**, en función del tipo de escena que quieras crear.\n",
    "`Scene` es la más básica de todas, pero hay muchos otros tipos. Por ejemplo:\n",
    "* `MovingCameraScene`: Escena en la que hay movimientos en la cámara\n",
    "* `ThreeDScene`: Escena en 3 dimensiones\n",
    "* `VectorScene`: Escena con vectores (útil por ejemplo si quieres representar un campo eléctrico, un espacio de fases, ...)\n",
    "\n",
    "Os dejo para terminar esta sección un enlace a la web de Manim para que podáis ver los [tipos de escenas]( https://docs.manim.community/en/stable/reference_index/scenes.html \"https://docs.manim.community/en/stable/reference_index/scenes.html\") que hay. Ahora vayamos a algo más divertido. Los **MObjects**:"
   ]
  },
  {
   "cell_type": "markdown",
   "id": "9672af11-deaa-4500-85f3-9a1d67496685",
   "metadata": {},
   "source": [
    "## 3. MObjects"
   ]
  },
  {
   "cell_type": "markdown",
   "id": "263845e4-cd43-4825-9bf9-c210e1340011",
   "metadata": {},
   "source": [
    "**Los Mobjects (Mathematical Objects) son los objetos que queremos animar**. Serán cosas como un cuadrado, un punto, una flecha, unos ejes, una matriz, ... En general, los objetos de las matemáticas que se usan en física e ingeniería (salvo los conceptos mas abstractos) tienen un Mobject que nos permitirá trabajar con ellos cómodamente.\n",
    "\n",
    "Es importante entender que **los Mobjects son clases con sus métodos y atributos que se heredan de varias clases**. En la web de manim hay un [arbol con las clases y subclases](https://docs.manim.community/en/stable/reference.html#inheritance-graphs 'https://docs.manim.community/en/stable/reference.html#inheritance-graphs') de todas las escenas, MObjects y animaciones de manim.\n",
    "\n",
    "A continuación, os voy a enseñar una escena con muchos de estos MObjects para poder explicaros varios conceptos importantes"
   ]
  },
  {
   "cell_type": "code",
   "execution_count": 4,
   "id": "c97b3345-6000-4ab7-a067-8a92221ee850",
   "metadata": {},
   "outputs": [
    {
     "data": {
      "text/html": [
       "<pre style=\"white-space:pre;overflow-x:auto;line-height:normal;font-family:Menlo,'DejaVu Sans Mono',consolas,'Courier New',monospace\">Manim Community <span style=\"color: #008000; text-decoration-color: #008000\">v0.18.1</span>\n",
       "\n",
       "</pre>\n"
      ],
      "text/plain": [
       "Manim Community \u001b[32mv0.\u001b[0m\u001b[32m18.1\u001b[0m\n",
       "\n"
      ]
     },
     "metadata": {},
     "output_type": "display_data"
    },
    {
     "data": {
      "text/html": [
       "<pre style=\"white-space:pre;overflow-x:auto;line-height:normal;font-family:Menlo,'DejaVu Sans Mono',consolas,'Courier New',monospace\"><span style=\"color: #7fbfbf; text-decoration-color: #7fbfbf\">[01/08/25 14:05:44] </span><span style=\"color: #008000; text-decoration-color: #008000\">INFO    </span>                                                               <a href=\"file:///mnt/netapp1/Store_CESGA/home/cesga/fyanez/manim_ce/manim_env/lib/python3.10/site-packages/manim/scene/scene_file_writer.py\" target=\"_blank\"><span style=\"color: #7f7f7f; text-decoration-color: #7f7f7f\">scene_file_writer.py</span></a><span style=\"color: #7f7f7f; text-decoration-color: #7f7f7f\">:</span><a href=\"file:///mnt/netapp1/Store_CESGA/home/cesga/fyanez/manim_ce/manim_env/lib/python3.10/site-packages/manim/scene/scene_file_writer.py#737\" target=\"_blank\"><span style=\"color: #7f7f7f; text-decoration-color: #7f7f7f\">737</span></a>\n",
       "<span style=\"color: #7fbfbf; text-decoration-color: #7fbfbf\">                    </span>         <span style=\"color: #808000; text-decoration-color: #808000; font-weight: bold\">File</span> ready at                                                 <span style=\"color: #7f7f7f; text-decoration-color: #7f7f7f\">                        </span>\n",
       "<span style=\"color: #7fbfbf; text-decoration-color: #7fbfbf\">                    </span>         <span style=\"color: #008000; text-decoration-color: #008000\">'/mnt/netapp1/Store_CESGA/home/cesga/fyanez/manim_ce/media/im</span> <span style=\"color: #7f7f7f; text-decoration-color: #7f7f7f\">                        </span>\n",
       "<span style=\"color: #7fbfbf; text-decoration-color: #7fbfbf\">                    </span>         <span style=\"color: #008000; text-decoration-color: #008000\">ages/manim_ce/EscenaConMuchasCosas_ManimCE_v0.18.1.png'</span>       <span style=\"color: #7f7f7f; text-decoration-color: #7f7f7f\">                        </span>\n",
       "<span style=\"color: #7fbfbf; text-decoration-color: #7fbfbf\">                    </span>                                                                       <span style=\"color: #7f7f7f; text-decoration-color: #7f7f7f\">                        </span>\n",
       "</pre>\n"
      ],
      "text/plain": [
       "\u001b[2;36m[01/08/25 14:05:44]\u001b[0m\u001b[2;36m \u001b[0m\u001b[32mINFO    \u001b[0m                                                               \u001b]8;id=95264;file:///mnt/netapp1/Store_CESGA/home/cesga/fyanez/manim_ce/manim_env/lib/python3.10/site-packages/manim/scene/scene_file_writer.py\u001b\\\u001b[2mscene_file_writer.py\u001b[0m\u001b]8;;\u001b\\\u001b[2m:\u001b[0m\u001b]8;id=895434;file:///mnt/netapp1/Store_CESGA/home/cesga/fyanez/manim_ce/manim_env/lib/python3.10/site-packages/manim/scene/scene_file_writer.py#737\u001b\\\u001b[2m737\u001b[0m\u001b]8;;\u001b\\\n",
       "\u001b[2;36m                    \u001b[0m         \u001b[1;33mFile\u001b[0m ready at                                                 \u001b[2m                        \u001b[0m\n",
       "\u001b[2;36m                    \u001b[0m         \u001b[32m'/mnt/netapp1/Store_CESGA/home/cesga/fyanez/manim_ce/media/im\u001b[0m \u001b[2m                        \u001b[0m\n",
       "\u001b[2;36m                    \u001b[0m         \u001b[32mages/manim_ce/EscenaConMuchasCosas_ManimCE_v0.18.1.png'\u001b[0m       \u001b[2m                        \u001b[0m\n",
       "\u001b[2;36m                    \u001b[0m                                                                       \u001b[2m                        \u001b[0m\n"
      ]
     },
     "metadata": {},
     "output_type": "display_data"
    },
    {
     "data": {
      "text/html": [
       "<pre style=\"white-space:pre;overflow-x:auto;line-height:normal;font-family:Menlo,'DejaVu Sans Mono',consolas,'Courier New',monospace\"><span style=\"color: #7fbfbf; text-decoration-color: #7fbfbf\">                    </span><span style=\"color: #008000; text-decoration-color: #008000\">INFO    </span> <span style=\"color: #808000; text-decoration-color: #808000; font-weight: bold\">Rendered</span> EscenaConMuchasCosas                                             <a href=\"file:///mnt/netapp1/Store_CESGA/home/cesga/fyanez/manim_ce/manim_env/lib/python3.10/site-packages/manim/scene/scene.py\" target=\"_blank\"><span style=\"color: #7f7f7f; text-decoration-color: #7f7f7f\">scene.py</span></a><span style=\"color: #7f7f7f; text-decoration-color: #7f7f7f\">:</span><a href=\"file:///mnt/netapp1/Store_CESGA/home/cesga/fyanez/manim_ce/manim_env/lib/python3.10/site-packages/manim/scene/scene.py#247\" target=\"_blank\"><span style=\"color: #7f7f7f; text-decoration-color: #7f7f7f\">247</span></a>\n",
       "<span style=\"color: #7fbfbf; text-decoration-color: #7fbfbf\">                    </span>         <span style=\"color: #808000; text-decoration-color: #808000; font-weight: bold\">Played</span> <span style=\"color: #008000; text-decoration-color: #008000\">0</span> <span style=\"color: #808000; text-decoration-color: #808000; font-weight: bold\">animations</span>                                                       <span style=\"color: #7f7f7f; text-decoration-color: #7f7f7f\">            </span>\n",
       "</pre>\n"
      ],
      "text/plain": [
       "\u001b[2;36m                   \u001b[0m\u001b[2;36m \u001b[0m\u001b[32mINFO    \u001b[0m \u001b[1;33mRendered\u001b[0m EscenaConMuchasCosas                                             \u001b]8;id=592332;file:///mnt/netapp1/Store_CESGA/home/cesga/fyanez/manim_ce/manim_env/lib/python3.10/site-packages/manim/scene/scene.py\u001b\\\u001b[2mscene.py\u001b[0m\u001b]8;;\u001b\\\u001b[2m:\u001b[0m\u001b]8;id=724802;file:///mnt/netapp1/Store_CESGA/home/cesga/fyanez/manim_ce/manim_env/lib/python3.10/site-packages/manim/scene/scene.py#247\u001b\\\u001b[2m247\u001b[0m\u001b]8;;\u001b\\\n",
       "\u001b[2;36m                    \u001b[0m         \u001b[1;33mPlayed\u001b[0m \u001b[32m0\u001b[0m \u001b[1;33manimations\u001b[0m                                                       \u001b[2m            \u001b[0m\n"
      ]
     },
     "metadata": {},
     "output_type": "display_data"
    },
    {
     "data": {
      "image/png": "[encoded data removed]",
      "text/plain": [
       "<IPython.core.display.Image object>"
      ]
     },
     "metadata": {},
     "output_type": "display_data"
    }
   ],
   "source": [
    "%%manim -ql -vINFO  EscenaConMuchasCosas\n",
    "\n",
    "class EscenaConMuchasCosas(Scene):\n",
    "    \n",
    "    def construct(self):\n",
    "        \n",
    "        punto = Dot()\n",
    "        punto_grande_amarillo = Dot().set_color(YELLOW).scale(5)\n",
    "        estrella = Star(n=7).set_color(BLUE).rotate(0.1)\n",
    "\n",
    "        Euler = MathTex(r'e^{i \\pi} + 1 = 0', tex_to_color_map={'i': BLUE, '\\pi': GOLD})\n",
    "        Regla_de_la_cadena = MathTex(r\" f' g' = f'g +fg' \")\n",
    "\n",
    "        matriz = Matrix([[2, 1], [-1, 1]]).set_column_colors(RED, GREEN)\n",
    "        vector_1 = Vector(direction=np.array([2., -1., 0.])).set_color(RED)\n",
    "        vector_2 = Vector(direction=np.array([1., 1., 0.])).set_color(GREEN)\n",
    "\n",
    "        Grupo_de_Figuras =  VGroup(punto, punto_grande_amarillo, estrella).arrange(LEFT)\n",
    "        Grupo_de_formulas = VGroup(Euler, Regla_de_la_cadena).arrange(DOWN).to_corner(UL)\n",
    "        Grupo_de_algebra =  VGroup(matriz, vector_1, vector_2).arrange(RIGHT).to_edge(DOWN)\n",
    "        \n",
    "        self.add(Grupo_de_Figuras)\n",
    "        self.add(Grupo_de_formulas)\n",
    "        self.add(Grupo_de_algebra)"
   ]
  },
  {
   "cell_type": "markdown",
   "id": "c2e5b604-35ce-44e8-9375-d991debcf2f7",
   "metadata": {},
   "source": [
    "Como podéis ver en esta escena ya hay muchas cosas, pero vayamos paso por paso para entender qué hemos hecho arriba\n",
    "Al inicio definimos unas figuras geométricas en estas líneas:\n",
    "\n",
    "``` [python]\n",
    "        punto= Dot()\n",
    "        punto_grande_amarillo = Dot().set_color(YELLOW).scale(5)\n",
    "        estrella= Star(n=7).set_color(BLUE).rotate(0.1)\n",
    "```\n",
    "\n",
    "Lo primero es un punto igual al que usamos en la escena anterior. Pero despues vemos cómo simplemente usando unos métodos de esa clase, como son `set_color` y `scale`, podemos definir su tamaño y color., creando así despues un punto amarillo más grande. Pero además luego añadimos una estrella, con `Star(n=7)` y hacemos que esta sea de color azul y que esté ligeramente rotada. La forma para aplicar estos efectos es usando los métodos adecuados (`set_color` y `rotate` en nuestro caso).\n",
    "\n",
    "Después en las siguientes líneas, definimos unas fórmulas matemáticas usando LATEX:\n",
    "\n",
    "``` [python]\n",
    "        Euler = MathTex(r'e^{i \\pi} + 1 = 0', tex_to_color_map={'i': BLUE, '\\pi': GOLD})\n",
    "        Regla_de_la_cadena = MathTex(r\" f' g' = f'g +fg' \")\n",
    "```\n",
    "\n",
    "La primera fórmula es la Identidad de Euler. Esa forma de escribir con las llaves y las barras son propias de LATEX, no de manim, por lo que no me centraré en explicarlo. Lo que si que es propio de manim es la forma en la que se pueden separar las partes de dicha ecuacion para asignarles un color, con la variable de la función `tex_to_color_map`. Además, he añadido la ecuación de la Regla de la cadena, para que veáis otro ejemplo menos complejo.\n",
    "\n",
    "Para terminar, he añadido una matriz y dos vectores:\n",
    "\n",
    "``` [python]\n",
    "        matriz = Matrix([[2, 1], [-1, 1]]).set_column_colors(RED, GREEN)\n",
    "        vector_1=Vector(direction=np.array([2., -1., 0.])).set_color(RED)\n",
    "        vector_2=Vector(direction=np.array([1., 1., 0.])).set_color(GREEN)\n",
    "```\n",
    "\n",
    "Como podéis ver, he representado en la primera línea la matriz 2x2 que vemos en la imagen y uso un método de `Matrix` para asignar unos colores a las columnas (`set_column_colors(RED, GREEN)`) que representan los vectores que pondré después. Luego defino dos vectores con los valores de las columnas de la matriz, el `vector_1` y el `vector_2`. Para que sea más visual qué vector es el que representa cada columna, asigno los colores con `set_color` según le corresponda a cada vector.  \n",
    "\n",
    "Se podría pensar que con eso ya está todo, pero falta una parte muy importante, y es asignar las posiciones dentro de la escena a cada MObject. Hay muchos métodos para asignar la posición que queramos a cada MObject, pero en este ejemplo he preferido de paso enseñaros cómo agrupar los MObjects en grupos llamados `VGroup`s. Estas son las últimas lineas del código:\n",
    "\n",
    "``` [python]\n",
    "        Grupo_de_Figuras =  VGroup(punto, punto_grande_amarillo, estrella).arrange(LEFT)\n",
    "        Grupo_de_formulas = VGroup(Euler, Regla_de_la_cadena).arrange(DOWN).to_corner(UL)\n",
    "        Grupo_de_algebra =  VGroup(matriz, vector_1, vector_2).arrange(RIGHT).to_edge(DOWN)\n",
    "```\n",
    "Lo que estamos viendo es la definión de los tres grupos que he explicado arriba uno por uno.  \n",
    "El primer grupo es el de los puntos y la estrella (`Grupo_de_Figuras = VGroup(punto, punto_grande_amarillo, estrella)`). Usando el método `arrange` podemos ordenarlos dentro de una escena, en este caso, hacia la izquierda (`arrange(LEFT)`). La posición que tendrá este grupo en la escena será el centro, ya que es la que da manim a cualquier MObject salvo que se le indique lo contrario.  \n",
    "Después creamos el grupo de fórmulas `Grupo_de_formulas = VGroup(Euler, Regla_de_la_cadena)`. Hacemos que se agrupen hacia abajo con `arrange(DOWN)` y que se muevan a la esquina superior izquierda con `.to_corner(UL)` (UL es una abreviatura de *Upper Left*).  \n",
    "Finalmente hacemos un procedimiento análogo con el grupo de la matriz y los vectores `Grupo_de_algebra = VGroup(matriz, vector_1, vector_2)`. Los metodos que usamos serán para que se ordenen hacia la derecha `arrange(RIGHT)` y que el grupo se coloque en el eje inferior, con `to_edge(DOWN)`.  \n",
    "\n",
    "Al igual que en la anterior escena, le especificamos a manim que añada estos elementos a la escena con `self.add`.\n",
    "\n",
    "La conclusión que quiero resaltar es que hay **muchos tipos de Mobjects, que se pueden modificar usando sus métodos, y que al agruparlos en `VGroup`s podemos trabajar de una forma mucho más fácil con estos**. Es muy recomendable ir a la [guía de uso de manim]( https://docs.manim.community/en/stable/reference_index/mobjects.html 'https://docs.manim.community/en/stable/reference_index/mobjects.html') para ver los usos todos los MOBjects que hay y sus métodos.\n",
    "\n",
    "Nos queda la parte mas chula **¡Hacer que los MObjects se muevan con animaciones!**"
   ]
  },
  {
   "cell_type": "markdown",
   "id": "df595b72-498d-44cd-aa01-0300ae1ac6ce",
   "metadata": {},
   "source": [
    "## 4. Animaciones"
   ]
  },
  {
   "cell_type": "markdown",
   "id": "3ef71973-e4fc-456d-acc4-7445dda80396",
   "metadata": {},
   "source": [
    "Saltemos directamente a ver el código de esta animación"
   ]
  },
  {
   "cell_type": "code",
   "execution_count": 3,
   "id": "801fd03c-c562-44c0-bafb-cb37ce277409",
   "metadata": {},
   "outputs": [
    {
     "data": {
      "text/html": [
       "<pre style=\"white-space:pre;overflow-x:auto;line-height:normal;font-family:Menlo,'DejaVu Sans Mono',consolas,'Courier New',monospace\">Manim Community <span style=\"color: #008000; text-decoration-color: #008000\">v0.18.1</span>\n",
       "\n",
       "</pre>\n"
      ],
      "text/plain": [
       "Manim Community \u001b[32mv0.\u001b[0m\u001b[32m18.1\u001b[0m\n",
       "\n"
      ]
     },
     "metadata": {},
     "output_type": "display_data"
    },
    {
     "name": "stderr",
     "output_type": "stream",
     "text": [
      "                                                                                                                                                                                                              \r"
     ]
    },
    {
     "data": {
      "text/html": [
       "<pre style=\"white-space:pre;overflow-x:auto;line-height:normal;font-family:Menlo,'DejaVu Sans Mono',consolas,'Courier New',monospace\"><span style=\"color: #7fbfbf; text-decoration-color: #7fbfbf\">[01/08/25 14:44:01] </span><span style=\"color: #008000; text-decoration-color: #008000\">INFO    </span> Animation <span style=\"color: #008000; text-decoration-color: #008000\">0</span> : Partial movie file written in                   <a href=\"file:///mnt/netapp1/Store_CESGA/home/cesga/fyanez/manim_ce/manim_env/lib/python3.10/site-packages/manim/scene/scene_file_writer.py\" target=\"_blank\"><span style=\"color: #7f7f7f; text-decoration-color: #7f7f7f\">scene_file_writer.py</span></a><span style=\"color: #7f7f7f; text-decoration-color: #7f7f7f\">:</span><a href=\"file:///mnt/netapp1/Store_CESGA/home/cesga/fyanez/manim_ce/manim_env/lib/python3.10/site-packages/manim/scene/scene_file_writer.py#527\" target=\"_blank\"><span style=\"color: #7f7f7f; text-decoration-color: #7f7f7f\">527</span></a>\n",
       "<span style=\"color: #7fbfbf; text-decoration-color: #7fbfbf\">                    </span>         <span style=\"color: #008000; text-decoration-color: #008000\">'/mnt/netapp1/Store_CESGA/home/cesga/fyanez/manim_ce/media/vi</span> <span style=\"color: #7f7f7f; text-decoration-color: #7f7f7f\">                        </span>\n",
       "<span style=\"color: #7fbfbf; text-decoration-color: #7fbfbf\">                    </span>         <span style=\"color: #008000; text-decoration-color: #008000\">deos/manim_ce/2160p60/partial_movie_files/EscenaConAnimacione</span> <span style=\"color: #7f7f7f; text-decoration-color: #7f7f7f\">                        </span>\n",
       "<span style=\"color: #7fbfbf; text-decoration-color: #7fbfbf\">                    </span>         <span style=\"color: #008000; text-decoration-color: #008000\">s/1457378895_4121323697_223132457.mp4'</span>                        <span style=\"color: #7f7f7f; text-decoration-color: #7f7f7f\">                        </span>\n",
       "</pre>\n"
      ],
      "text/plain": [
       "\u001b[2;36m[01/08/25 14:44:01]\u001b[0m\u001b[2;36m \u001b[0m\u001b[32mINFO    \u001b[0m Animation \u001b[32m0\u001b[0m : Partial movie file written in                   \u001b]8;id=695926;file:///mnt/netapp1/Store_CESGA/home/cesga/fyanez/manim_ce/manim_env/lib/python3.10/site-packages/manim/scene/scene_file_writer.py\u001b\\\u001b[2mscene_file_writer.py\u001b[0m\u001b]8;;\u001b\\\u001b[2m:\u001b[0m\u001b]8;id=148936;file:///mnt/netapp1/Store_CESGA/home/cesga/fyanez/manim_ce/manim_env/lib/python3.10/site-packages/manim/scene/scene_file_writer.py#527\u001b\\\u001b[2m527\u001b[0m\u001b]8;;\u001b\\\n",
       "\u001b[2;36m                    \u001b[0m         \u001b[32m'/mnt/netapp1/Store_CESGA/home/cesga/fyanez/manim_ce/media/vi\u001b[0m \u001b[2m                        \u001b[0m\n",
       "\u001b[2;36m                    \u001b[0m         \u001b[32mdeos/manim_ce/2160p60/partial_movie_files/EscenaConAnimacione\u001b[0m \u001b[2m                        \u001b[0m\n",
       "\u001b[2;36m                    \u001b[0m         \u001b[32ms/1457378895_4121323697_223132457.mp4'\u001b[0m                        \u001b[2m                        \u001b[0m\n"
      ]
     },
     "metadata": {},
     "output_type": "display_data"
    },
    {
     "data": {
      "text/html": [
       "<pre style=\"white-space:pre;overflow-x:auto;line-height:normal;font-family:Menlo,'DejaVu Sans Mono',consolas,'Courier New',monospace\"><span style=\"color: #7fbfbf; text-decoration-color: #7fbfbf\">[01/08/25 14:44:06] </span><span style=\"color: #008000; text-decoration-color: #008000\">INFO    </span> Animation <span style=\"color: #008000; text-decoration-color: #008000\">1</span> : Partial movie file written in                   <a href=\"file:///mnt/netapp1/Store_CESGA/home/cesga/fyanez/manim_ce/manim_env/lib/python3.10/site-packages/manim/scene/scene_file_writer.py\" target=\"_blank\"><span style=\"color: #7f7f7f; text-decoration-color: #7f7f7f\">scene_file_writer.py</span></a><span style=\"color: #7f7f7f; text-decoration-color: #7f7f7f\">:</span><a href=\"file:///mnt/netapp1/Store_CESGA/home/cesga/fyanez/manim_ce/manim_env/lib/python3.10/site-packages/manim/scene/scene_file_writer.py#527\" target=\"_blank\"><span style=\"color: #7f7f7f; text-decoration-color: #7f7f7f\">527</span></a>\n",
       "<span style=\"color: #7fbfbf; text-decoration-color: #7fbfbf\">                    </span>         <span style=\"color: #008000; text-decoration-color: #008000\">'/mnt/netapp1/Store_CESGA/home/cesga/fyanez/manim_ce/media/vi</span> <span style=\"color: #7f7f7f; text-decoration-color: #7f7f7f\">                        </span>\n",
       "<span style=\"color: #7fbfbf; text-decoration-color: #7fbfbf\">                    </span>         <span style=\"color: #008000; text-decoration-color: #008000\">deos/manim_ce/2160p60/partial_movie_files/EscenaConAnimacione</span> <span style=\"color: #7f7f7f; text-decoration-color: #7f7f7f\">                        </span>\n",
       "<span style=\"color: #7fbfbf; text-decoration-color: #7fbfbf\">                    </span>         <span style=\"color: #008000; text-decoration-color: #008000\">s/1993220219_1704852926_4050084889.mp4'</span>                       <span style=\"color: #7f7f7f; text-decoration-color: #7f7f7f\">                        </span>\n",
       "</pre>\n"
      ],
      "text/plain": [
       "\u001b[2;36m[01/08/25 14:44:06]\u001b[0m\u001b[2;36m \u001b[0m\u001b[32mINFO    \u001b[0m Animation \u001b[32m1\u001b[0m : Partial movie file written in                   \u001b]8;id=326994;file:///mnt/netapp1/Store_CESGA/home/cesga/fyanez/manim_ce/manim_env/lib/python3.10/site-packages/manim/scene/scene_file_writer.py\u001b\\\u001b[2mscene_file_writer.py\u001b[0m\u001b]8;;\u001b\\\u001b[2m:\u001b[0m\u001b]8;id=817946;file:///mnt/netapp1/Store_CESGA/home/cesga/fyanez/manim_ce/manim_env/lib/python3.10/site-packages/manim/scene/scene_file_writer.py#527\u001b\\\u001b[2m527\u001b[0m\u001b]8;;\u001b\\\n",
       "\u001b[2;36m                    \u001b[0m         \u001b[32m'/mnt/netapp1/Store_CESGA/home/cesga/fyanez/manim_ce/media/vi\u001b[0m \u001b[2m                        \u001b[0m\n",
       "\u001b[2;36m                    \u001b[0m         \u001b[32mdeos/manim_ce/2160p60/partial_movie_files/EscenaConAnimacione\u001b[0m \u001b[2m                        \u001b[0m\n",
       "\u001b[2;36m                    \u001b[0m         \u001b[32ms/1993220219_1704852926_4050084889.mp4'\u001b[0m                       \u001b[2m                        \u001b[0m\n"
      ]
     },
     "metadata": {},
     "output_type": "display_data"
    },
    {
     "name": "stderr",
     "output_type": "stream",
     "text": [
      "                                                                                                                                                                                                              \r"
     ]
    },
    {
     "data": {
      "text/html": [
       "<pre style=\"white-space:pre;overflow-x:auto;line-height:normal;font-family:Menlo,'DejaVu Sans Mono',consolas,'Courier New',monospace\"><span style=\"color: #7fbfbf; text-decoration-color: #7fbfbf\">[01/08/25 14:44:15] </span><span style=\"color: #008000; text-decoration-color: #008000\">INFO    </span> Animation <span style=\"color: #008000; text-decoration-color: #008000\">2</span> : Partial movie file written in                   <a href=\"file:///mnt/netapp1/Store_CESGA/home/cesga/fyanez/manim_ce/manim_env/lib/python3.10/site-packages/manim/scene/scene_file_writer.py\" target=\"_blank\"><span style=\"color: #7f7f7f; text-decoration-color: #7f7f7f\">scene_file_writer.py</span></a><span style=\"color: #7f7f7f; text-decoration-color: #7f7f7f\">:</span><a href=\"file:///mnt/netapp1/Store_CESGA/home/cesga/fyanez/manim_ce/manim_env/lib/python3.10/site-packages/manim/scene/scene_file_writer.py#527\" target=\"_blank\"><span style=\"color: #7f7f7f; text-decoration-color: #7f7f7f\">527</span></a>\n",
       "<span style=\"color: #7fbfbf; text-decoration-color: #7fbfbf\">                    </span>         <span style=\"color: #008000; text-decoration-color: #008000\">'/mnt/netapp1/Store_CESGA/home/cesga/fyanez/manim_ce/media/vi</span> <span style=\"color: #7f7f7f; text-decoration-color: #7f7f7f\">                        </span>\n",
       "<span style=\"color: #7fbfbf; text-decoration-color: #7fbfbf\">                    </span>         <span style=\"color: #008000; text-decoration-color: #008000\">deos/manim_ce/2160p60/partial_movie_files/EscenaConAnimacione</span> <span style=\"color: #7f7f7f; text-decoration-color: #7f7f7f\">                        </span>\n",
       "<span style=\"color: #7fbfbf; text-decoration-color: #7fbfbf\">                    </span>         <span style=\"color: #008000; text-decoration-color: #008000\">s/1993220219_3180806503_2259761173.mp4'</span>                       <span style=\"color: #7f7f7f; text-decoration-color: #7f7f7f\">                        </span>\n",
       "</pre>\n"
      ],
      "text/plain": [
       "\u001b[2;36m[01/08/25 14:44:15]\u001b[0m\u001b[2;36m \u001b[0m\u001b[32mINFO    \u001b[0m Animation \u001b[32m2\u001b[0m : Partial movie file written in                   \u001b]8;id=554395;file:///mnt/netapp1/Store_CESGA/home/cesga/fyanez/manim_ce/manim_env/lib/python3.10/site-packages/manim/scene/scene_file_writer.py\u001b\\\u001b[2mscene_file_writer.py\u001b[0m\u001b]8;;\u001b\\\u001b[2m:\u001b[0m\u001b]8;id=471188;file:///mnt/netapp1/Store_CESGA/home/cesga/fyanez/manim_ce/manim_env/lib/python3.10/site-packages/manim/scene/scene_file_writer.py#527\u001b\\\u001b[2m527\u001b[0m\u001b]8;;\u001b\\\n",
       "\u001b[2;36m                    \u001b[0m         \u001b[32m'/mnt/netapp1/Store_CESGA/home/cesga/fyanez/manim_ce/media/vi\u001b[0m \u001b[2m                        \u001b[0m\n",
       "\u001b[2;36m                    \u001b[0m         \u001b[32mdeos/manim_ce/2160p60/partial_movie_files/EscenaConAnimacione\u001b[0m \u001b[2m                        \u001b[0m\n",
       "\u001b[2;36m                    \u001b[0m         \u001b[32ms/1993220219_3180806503_2259761173.mp4'\u001b[0m                       \u001b[2m                        \u001b[0m\n"
      ]
     },
     "metadata": {},
     "output_type": "display_data"
    },
    {
     "data": {
      "text/html": [
       "<pre style=\"white-space:pre;overflow-x:auto;line-height:normal;font-family:Menlo,'DejaVu Sans Mono',consolas,'Courier New',monospace\"><span style=\"color: #7fbfbf; text-decoration-color: #7fbfbf\">[01/08/25 14:44:31] </span><span style=\"color: #008000; text-decoration-color: #008000\">INFO    </span> Animation <span style=\"color: #008000; text-decoration-color: #008000\">3</span> : Partial movie file written in                   <a href=\"file:///mnt/netapp1/Store_CESGA/home/cesga/fyanez/manim_ce/manim_env/lib/python3.10/site-packages/manim/scene/scene_file_writer.py\" target=\"_blank\"><span style=\"color: #7f7f7f; text-decoration-color: #7f7f7f\">scene_file_writer.py</span></a><span style=\"color: #7f7f7f; text-decoration-color: #7f7f7f\">:</span><a href=\"file:///mnt/netapp1/Store_CESGA/home/cesga/fyanez/manim_ce/manim_env/lib/python3.10/site-packages/manim/scene/scene_file_writer.py#527\" target=\"_blank\"><span style=\"color: #7f7f7f; text-decoration-color: #7f7f7f\">527</span></a>\n",
       "<span style=\"color: #7fbfbf; text-decoration-color: #7fbfbf\">                    </span>         <span style=\"color: #008000; text-decoration-color: #008000\">'/mnt/netapp1/Store_CESGA/home/cesga/fyanez/manim_ce/media/vi</span> <span style=\"color: #7f7f7f; text-decoration-color: #7f7f7f\">                        </span>\n",
       "<span style=\"color: #7fbfbf; text-decoration-color: #7fbfbf\">                    </span>         <span style=\"color: #008000; text-decoration-color: #008000\">deos/manim_ce/2160p60/partial_movie_files/EscenaConAnimacione</span> <span style=\"color: #7f7f7f; text-decoration-color: #7f7f7f\">                        </span>\n",
       "<span style=\"color: #7fbfbf; text-decoration-color: #7fbfbf\">                    </span>         <span style=\"color: #008000; text-decoration-color: #008000\">s/1993220219_3891874688_4180375817.mp4'</span>                       <span style=\"color: #7f7f7f; text-decoration-color: #7f7f7f\">                        </span>\n",
       "</pre>\n"
      ],
      "text/plain": [
       "\u001b[2;36m[01/08/25 14:44:31]\u001b[0m\u001b[2;36m \u001b[0m\u001b[32mINFO    \u001b[0m Animation \u001b[32m3\u001b[0m : Partial movie file written in                   \u001b]8;id=206340;file:///mnt/netapp1/Store_CESGA/home/cesga/fyanez/manim_ce/manim_env/lib/python3.10/site-packages/manim/scene/scene_file_writer.py\u001b\\\u001b[2mscene_file_writer.py\u001b[0m\u001b]8;;\u001b\\\u001b[2m:\u001b[0m\u001b]8;id=425162;file:///mnt/netapp1/Store_CESGA/home/cesga/fyanez/manim_ce/manim_env/lib/python3.10/site-packages/manim/scene/scene_file_writer.py#527\u001b\\\u001b[2m527\u001b[0m\u001b]8;;\u001b\\\n",
       "\u001b[2;36m                    \u001b[0m         \u001b[32m'/mnt/netapp1/Store_CESGA/home/cesga/fyanez/manim_ce/media/vi\u001b[0m \u001b[2m                        \u001b[0m\n",
       "\u001b[2;36m                    \u001b[0m         \u001b[32mdeos/manim_ce/2160p60/partial_movie_files/EscenaConAnimacione\u001b[0m \u001b[2m                        \u001b[0m\n",
       "\u001b[2;36m                    \u001b[0m         \u001b[32ms/1993220219_3891874688_4180375817.mp4'\u001b[0m                       \u001b[2m                        \u001b[0m\n"
      ]
     },
     "metadata": {},
     "output_type": "display_data"
    },
    {
     "name": "stderr",
     "output_type": "stream",
     "text": [
      "                                                                                                                                                                                                              \r"
     ]
    },
    {
     "data": {
      "text/html": [
       "<pre style=\"white-space:pre;overflow-x:auto;line-height:normal;font-family:Menlo,'DejaVu Sans Mono',consolas,'Courier New',monospace\"><span style=\"color: #7fbfbf; text-decoration-color: #7fbfbf\">[01/08/25 14:44:38] </span><span style=\"color: #008000; text-decoration-color: #008000\">INFO    </span> Animation <span style=\"color: #008000; text-decoration-color: #008000\">4</span> : Partial movie file written in                   <a href=\"file:///mnt/netapp1/Store_CESGA/home/cesga/fyanez/manim_ce/manim_env/lib/python3.10/site-packages/manim/scene/scene_file_writer.py\" target=\"_blank\"><span style=\"color: #7f7f7f; text-decoration-color: #7f7f7f\">scene_file_writer.py</span></a><span style=\"color: #7f7f7f; text-decoration-color: #7f7f7f\">:</span><a href=\"file:///mnt/netapp1/Store_CESGA/home/cesga/fyanez/manim_ce/manim_env/lib/python3.10/site-packages/manim/scene/scene_file_writer.py#527\" target=\"_blank\"><span style=\"color: #7f7f7f; text-decoration-color: #7f7f7f\">527</span></a>\n",
       "<span style=\"color: #7fbfbf; text-decoration-color: #7fbfbf\">                    </span>         <span style=\"color: #008000; text-decoration-color: #008000\">'/mnt/netapp1/Store_CESGA/home/cesga/fyanez/manim_ce/media/vi</span> <span style=\"color: #7f7f7f; text-decoration-color: #7f7f7f\">                        </span>\n",
       "<span style=\"color: #7fbfbf; text-decoration-color: #7fbfbf\">                    </span>         <span style=\"color: #008000; text-decoration-color: #008000\">deos/manim_ce/2160p60/partial_movie_files/EscenaConAnimacione</span> <span style=\"color: #7f7f7f; text-decoration-color: #7f7f7f\">                        </span>\n",
       "<span style=\"color: #7fbfbf; text-decoration-color: #7fbfbf\">                    </span>         <span style=\"color: #008000; text-decoration-color: #008000\">s/1993220219_107525316_2324206674.mp4'</span>                        <span style=\"color: #7f7f7f; text-decoration-color: #7f7f7f\">                        </span>\n",
       "</pre>\n"
      ],
      "text/plain": [
       "\u001b[2;36m[01/08/25 14:44:38]\u001b[0m\u001b[2;36m \u001b[0m\u001b[32mINFO    \u001b[0m Animation \u001b[32m4\u001b[0m : Partial movie file written in                   \u001b]8;id=424454;file:///mnt/netapp1/Store_CESGA/home/cesga/fyanez/manim_ce/manim_env/lib/python3.10/site-packages/manim/scene/scene_file_writer.py\u001b\\\u001b[2mscene_file_writer.py\u001b[0m\u001b]8;;\u001b\\\u001b[2m:\u001b[0m\u001b]8;id=155212;file:///mnt/netapp1/Store_CESGA/home/cesga/fyanez/manim_ce/manim_env/lib/python3.10/site-packages/manim/scene/scene_file_writer.py#527\u001b\\\u001b[2m527\u001b[0m\u001b]8;;\u001b\\\n",
       "\u001b[2;36m                    \u001b[0m         \u001b[32m'/mnt/netapp1/Store_CESGA/home/cesga/fyanez/manim_ce/media/vi\u001b[0m \u001b[2m                        \u001b[0m\n",
       "\u001b[2;36m                    \u001b[0m         \u001b[32mdeos/manim_ce/2160p60/partial_movie_files/EscenaConAnimacione\u001b[0m \u001b[2m                        \u001b[0m\n",
       "\u001b[2;36m                    \u001b[0m         \u001b[32ms/1993220219_107525316_2324206674.mp4'\u001b[0m                        \u001b[2m                        \u001b[0m\n"
      ]
     },
     "metadata": {},
     "output_type": "display_data"
    },
    {
     "name": "stderr",
     "output_type": "stream",
     "text": [
      "                                                                                                                                                                                                              \r"
     ]
    },
    {
     "data": {
      "text/html": [
       "<pre style=\"white-space:pre;overflow-x:auto;line-height:normal;font-family:Menlo,'DejaVu Sans Mono',consolas,'Courier New',monospace\"><span style=\"color: #7fbfbf; text-decoration-color: #7fbfbf\">[01/08/25 14:44:45] </span><span style=\"color: #008000; text-decoration-color: #008000\">INFO    </span> Animation <span style=\"color: #008000; text-decoration-color: #008000\">5</span> : Partial movie file written in                   <a href=\"file:///mnt/netapp1/Store_CESGA/home/cesga/fyanez/manim_ce/manim_env/lib/python3.10/site-packages/manim/scene/scene_file_writer.py\" target=\"_blank\"><span style=\"color: #7f7f7f; text-decoration-color: #7f7f7f\">scene_file_writer.py</span></a><span style=\"color: #7f7f7f; text-decoration-color: #7f7f7f\">:</span><a href=\"file:///mnt/netapp1/Store_CESGA/home/cesga/fyanez/manim_ce/manim_env/lib/python3.10/site-packages/manim/scene/scene_file_writer.py#527\" target=\"_blank\"><span style=\"color: #7f7f7f; text-decoration-color: #7f7f7f\">527</span></a>\n",
       "<span style=\"color: #7fbfbf; text-decoration-color: #7fbfbf\">                    </span>         <span style=\"color: #008000; text-decoration-color: #008000\">'/mnt/netapp1/Store_CESGA/home/cesga/fyanez/manim_ce/media/vi</span> <span style=\"color: #7f7f7f; text-decoration-color: #7f7f7f\">                        </span>\n",
       "<span style=\"color: #7fbfbf; text-decoration-color: #7fbfbf\">                    </span>         <span style=\"color: #008000; text-decoration-color: #008000\">deos/manim_ce/2160p60/partial_movie_files/EscenaConAnimacione</span> <span style=\"color: #7f7f7f; text-decoration-color: #7f7f7f\">                        </span>\n",
       "<span style=\"color: #7fbfbf; text-decoration-color: #7fbfbf\">                    </span>         <span style=\"color: #008000; text-decoration-color: #008000\">s/1993220219_3825365216_2742137704.mp4'</span>                       <span style=\"color: #7f7f7f; text-decoration-color: #7f7f7f\">                        </span>\n",
       "</pre>\n"
      ],
      "text/plain": [
       "\u001b[2;36m[01/08/25 14:44:45]\u001b[0m\u001b[2;36m \u001b[0m\u001b[32mINFO    \u001b[0m Animation \u001b[32m5\u001b[0m : Partial movie file written in                   \u001b]8;id=82747;file:///mnt/netapp1/Store_CESGA/home/cesga/fyanez/manim_ce/manim_env/lib/python3.10/site-packages/manim/scene/scene_file_writer.py\u001b\\\u001b[2mscene_file_writer.py\u001b[0m\u001b]8;;\u001b\\\u001b[2m:\u001b[0m\u001b]8;id=132973;file:///mnt/netapp1/Store_CESGA/home/cesga/fyanez/manim_ce/manim_env/lib/python3.10/site-packages/manim/scene/scene_file_writer.py#527\u001b\\\u001b[2m527\u001b[0m\u001b]8;;\u001b\\\n",
       "\u001b[2;36m                    \u001b[0m         \u001b[32m'/mnt/netapp1/Store_CESGA/home/cesga/fyanez/manim_ce/media/vi\u001b[0m \u001b[2m                        \u001b[0m\n",
       "\u001b[2;36m                    \u001b[0m         \u001b[32mdeos/manim_ce/2160p60/partial_movie_files/EscenaConAnimacione\u001b[0m \u001b[2m                        \u001b[0m\n",
       "\u001b[2;36m                    \u001b[0m         \u001b[32ms/1993220219_3825365216_2742137704.mp4'\u001b[0m                       \u001b[2m                        \u001b[0m\n"
      ]
     },
     "metadata": {},
     "output_type": "display_data"
    },
    {
     "name": "stderr",
     "output_type": "stream",
     "text": [
      "                                                                                                                                                                                                              \r"
     ]
    },
    {
     "data": {
      "text/html": [
       "<pre style=\"white-space:pre;overflow-x:auto;line-height:normal;font-family:Menlo,'DejaVu Sans Mono',consolas,'Courier New',monospace\"><span style=\"color: #7fbfbf; text-decoration-color: #7fbfbf\">[01/08/25 14:44:52] </span><span style=\"color: #008000; text-decoration-color: #008000\">INFO    </span> Animation <span style=\"color: #008000; text-decoration-color: #008000\">6</span> : Partial movie file written in                   <a href=\"file:///mnt/netapp1/Store_CESGA/home/cesga/fyanez/manim_ce/manim_env/lib/python3.10/site-packages/manim/scene/scene_file_writer.py\" target=\"_blank\"><span style=\"color: #7f7f7f; text-decoration-color: #7f7f7f\">scene_file_writer.py</span></a><span style=\"color: #7f7f7f; text-decoration-color: #7f7f7f\">:</span><a href=\"file:///mnt/netapp1/Store_CESGA/home/cesga/fyanez/manim_ce/manim_env/lib/python3.10/site-packages/manim/scene/scene_file_writer.py#527\" target=\"_blank\"><span style=\"color: #7f7f7f; text-decoration-color: #7f7f7f\">527</span></a>\n",
       "<span style=\"color: #7fbfbf; text-decoration-color: #7fbfbf\">                    </span>         <span style=\"color: #008000; text-decoration-color: #008000\">'/mnt/netapp1/Store_CESGA/home/cesga/fyanez/manim_ce/media/vi</span> <span style=\"color: #7f7f7f; text-decoration-color: #7f7f7f\">                        </span>\n",
       "<span style=\"color: #7fbfbf; text-decoration-color: #7fbfbf\">                    </span>         <span style=\"color: #008000; text-decoration-color: #008000\">deos/manim_ce/2160p60/partial_movie_files/EscenaConAnimacione</span> <span style=\"color: #7f7f7f; text-decoration-color: #7f7f7f\">                        </span>\n",
       "<span style=\"color: #7fbfbf; text-decoration-color: #7fbfbf\">                    </span>         <span style=\"color: #008000; text-decoration-color: #008000\">s/1993220219_4158570671_2742137704.mp4'</span>                       <span style=\"color: #7f7f7f; text-decoration-color: #7f7f7f\">                        </span>\n",
       "</pre>\n"
      ],
      "text/plain": [
       "\u001b[2;36m[01/08/25 14:44:52]\u001b[0m\u001b[2;36m \u001b[0m\u001b[32mINFO    \u001b[0m Animation \u001b[32m6\u001b[0m : Partial movie file written in                   \u001b]8;id=592319;file:///mnt/netapp1/Store_CESGA/home/cesga/fyanez/manim_ce/manim_env/lib/python3.10/site-packages/manim/scene/scene_file_writer.py\u001b\\\u001b[2mscene_file_writer.py\u001b[0m\u001b]8;;\u001b\\\u001b[2m:\u001b[0m\u001b]8;id=507384;file:///mnt/netapp1/Store_CESGA/home/cesga/fyanez/manim_ce/manim_env/lib/python3.10/site-packages/manim/scene/scene_file_writer.py#527\u001b\\\u001b[2m527\u001b[0m\u001b]8;;\u001b\\\n",
       "\u001b[2;36m                    \u001b[0m         \u001b[32m'/mnt/netapp1/Store_CESGA/home/cesga/fyanez/manim_ce/media/vi\u001b[0m \u001b[2m                        \u001b[0m\n",
       "\u001b[2;36m                    \u001b[0m         \u001b[32mdeos/manim_ce/2160p60/partial_movie_files/EscenaConAnimacione\u001b[0m \u001b[2m                        \u001b[0m\n",
       "\u001b[2;36m                    \u001b[0m         \u001b[32ms/1993220219_4158570671_2742137704.mp4'\u001b[0m                       \u001b[2m                        \u001b[0m\n"
      ]
     },
     "metadata": {},
     "output_type": "display_data"
    },
    {
     "name": "stderr",
     "output_type": "stream",
     "text": [
      "                                                                                                                                                                                                              \r"
     ]
    },
    {
     "data": {
      "text/html": [
       "<pre style=\"white-space:pre;overflow-x:auto;line-height:normal;font-family:Menlo,'DejaVu Sans Mono',consolas,'Courier New',monospace\"><span style=\"color: #7fbfbf; text-decoration-color: #7fbfbf\">[01/08/25 14:44:59] </span><span style=\"color: #008000; text-decoration-color: #008000\">INFO    </span> Animation <span style=\"color: #008000; text-decoration-color: #008000\">7</span> : Partial movie file written in                   <a href=\"file:///mnt/netapp1/Store_CESGA/home/cesga/fyanez/manim_ce/manim_env/lib/python3.10/site-packages/manim/scene/scene_file_writer.py\" target=\"_blank\"><span style=\"color: #7f7f7f; text-decoration-color: #7f7f7f\">scene_file_writer.py</span></a><span style=\"color: #7f7f7f; text-decoration-color: #7f7f7f\">:</span><a href=\"file:///mnt/netapp1/Store_CESGA/home/cesga/fyanez/manim_ce/manim_env/lib/python3.10/site-packages/manim/scene/scene_file_writer.py#527\" target=\"_blank\"><span style=\"color: #7f7f7f; text-decoration-color: #7f7f7f\">527</span></a>\n",
       "<span style=\"color: #7fbfbf; text-decoration-color: #7fbfbf\">                    </span>         <span style=\"color: #008000; text-decoration-color: #008000\">'/mnt/netapp1/Store_CESGA/home/cesga/fyanez/manim_ce/media/vi</span> <span style=\"color: #7f7f7f; text-decoration-color: #7f7f7f\">                        </span>\n",
       "<span style=\"color: #7fbfbf; text-decoration-color: #7fbfbf\">                    </span>         <span style=\"color: #008000; text-decoration-color: #008000\">deos/manim_ce/2160p60/partial_movie_files/EscenaConAnimacione</span> <span style=\"color: #7f7f7f; text-decoration-color: #7f7f7f\">                        </span>\n",
       "<span style=\"color: #7fbfbf; text-decoration-color: #7fbfbf\">                    </span>         <span style=\"color: #008000; text-decoration-color: #008000\">s/1993220219_4094872914_2742137704.mp4'</span>                       <span style=\"color: #7f7f7f; text-decoration-color: #7f7f7f\">                        </span>\n",
       "</pre>\n"
      ],
      "text/plain": [
       "\u001b[2;36m[01/08/25 14:44:59]\u001b[0m\u001b[2;36m \u001b[0m\u001b[32mINFO    \u001b[0m Animation \u001b[32m7\u001b[0m : Partial movie file written in                   \u001b]8;id=411691;file:///mnt/netapp1/Store_CESGA/home/cesga/fyanez/manim_ce/manim_env/lib/python3.10/site-packages/manim/scene/scene_file_writer.py\u001b\\\u001b[2mscene_file_writer.py\u001b[0m\u001b]8;;\u001b\\\u001b[2m:\u001b[0m\u001b]8;id=511579;file:///mnt/netapp1/Store_CESGA/home/cesga/fyanez/manim_ce/manim_env/lib/python3.10/site-packages/manim/scene/scene_file_writer.py#527\u001b\\\u001b[2m527\u001b[0m\u001b]8;;\u001b\\\n",
       "\u001b[2;36m                    \u001b[0m         \u001b[32m'/mnt/netapp1/Store_CESGA/home/cesga/fyanez/manim_ce/media/vi\u001b[0m \u001b[2m                        \u001b[0m\n",
       "\u001b[2;36m                    \u001b[0m         \u001b[32mdeos/manim_ce/2160p60/partial_movie_files/EscenaConAnimacione\u001b[0m \u001b[2m                        \u001b[0m\n",
       "\u001b[2;36m                    \u001b[0m         \u001b[32ms/1993220219_4094872914_2742137704.mp4'\u001b[0m                       \u001b[2m                        \u001b[0m\n"
      ]
     },
     "metadata": {},
     "output_type": "display_data"
    },
    {
     "data": {
      "text/html": [
       "<pre style=\"white-space:pre;overflow-x:auto;line-height:normal;font-family:Menlo,'DejaVu Sans Mono',consolas,'Courier New',monospace\"><span style=\"color: #7fbfbf; text-decoration-color: #7fbfbf\">[01/08/25 14:45:04] </span><span style=\"color: #008000; text-decoration-color: #008000\">INFO    </span> Animation <span style=\"color: #008000; text-decoration-color: #008000\">8</span> : Partial movie file written in                   <a href=\"file:///mnt/netapp1/Store_CESGA/home/cesga/fyanez/manim_ce/manim_env/lib/python3.10/site-packages/manim/scene/scene_file_writer.py\" target=\"_blank\"><span style=\"color: #7f7f7f; text-decoration-color: #7f7f7f\">scene_file_writer.py</span></a><span style=\"color: #7f7f7f; text-decoration-color: #7f7f7f\">:</span><a href=\"file:///mnt/netapp1/Store_CESGA/home/cesga/fyanez/manim_ce/manim_env/lib/python3.10/site-packages/manim/scene/scene_file_writer.py#527\" target=\"_blank\"><span style=\"color: #7f7f7f; text-decoration-color: #7f7f7f\">527</span></a>\n",
       "<span style=\"color: #7fbfbf; text-decoration-color: #7fbfbf\">                    </span>         <span style=\"color: #008000; text-decoration-color: #008000\">'/mnt/netapp1/Store_CESGA/home/cesga/fyanez/manim_ce/media/vi</span> <span style=\"color: #7f7f7f; text-decoration-color: #7f7f7f\">                        </span>\n",
       "<span style=\"color: #7fbfbf; text-decoration-color: #7fbfbf\">                    </span>         <span style=\"color: #008000; text-decoration-color: #008000\">deos/manim_ce/2160p60/partial_movie_files/EscenaConAnimacione</span> <span style=\"color: #7f7f7f; text-decoration-color: #7f7f7f\">                        </span>\n",
       "<span style=\"color: #7fbfbf; text-decoration-color: #7fbfbf\">                    </span>         <span style=\"color: #008000; text-decoration-color: #008000\">s/1993220219_1733944848_1368034629.mp4'</span>                       <span style=\"color: #7f7f7f; text-decoration-color: #7f7f7f\">                        </span>\n",
       "</pre>\n"
      ],
      "text/plain": [
       "\u001b[2;36m[01/08/25 14:45:04]\u001b[0m\u001b[2;36m \u001b[0m\u001b[32mINFO    \u001b[0m Animation \u001b[32m8\u001b[0m : Partial movie file written in                   \u001b]8;id=43839;file:///mnt/netapp1/Store_CESGA/home/cesga/fyanez/manim_ce/manim_env/lib/python3.10/site-packages/manim/scene/scene_file_writer.py\u001b\\\u001b[2mscene_file_writer.py\u001b[0m\u001b]8;;\u001b\\\u001b[2m:\u001b[0m\u001b]8;id=380253;file:///mnt/netapp1/Store_CESGA/home/cesga/fyanez/manim_ce/manim_env/lib/python3.10/site-packages/manim/scene/scene_file_writer.py#527\u001b\\\u001b[2m527\u001b[0m\u001b]8;;\u001b\\\n",
       "\u001b[2;36m                    \u001b[0m         \u001b[32m'/mnt/netapp1/Store_CESGA/home/cesga/fyanez/manim_ce/media/vi\u001b[0m \u001b[2m                        \u001b[0m\n",
       "\u001b[2;36m                    \u001b[0m         \u001b[32mdeos/manim_ce/2160p60/partial_movie_files/EscenaConAnimacione\u001b[0m \u001b[2m                        \u001b[0m\n",
       "\u001b[2;36m                    \u001b[0m         \u001b[32ms/1993220219_1733944848_1368034629.mp4'\u001b[0m                       \u001b[2m                        \u001b[0m\n"
      ]
     },
     "metadata": {},
     "output_type": "display_data"
    },
    {
     "name": "stderr",
     "output_type": "stream",
     "text": [
      "                                                                                                                                                                                                              \r"
     ]
    },
    {
     "data": {
      "text/html": [
       "<pre style=\"white-space:pre;overflow-x:auto;line-height:normal;font-family:Menlo,'DejaVu Sans Mono',consolas,'Courier New',monospace\"><span style=\"color: #7fbfbf; text-decoration-color: #7fbfbf\">[01/08/25 14:45:12] </span><span style=\"color: #008000; text-decoration-color: #008000\">INFO    </span> Animation <span style=\"color: #008000; text-decoration-color: #008000\">9</span> : Partial movie file written in                   <a href=\"file:///mnt/netapp1/Store_CESGA/home/cesga/fyanez/manim_ce/manim_env/lib/python3.10/site-packages/manim/scene/scene_file_writer.py\" target=\"_blank\"><span style=\"color: #7f7f7f; text-decoration-color: #7f7f7f\">scene_file_writer.py</span></a><span style=\"color: #7f7f7f; text-decoration-color: #7f7f7f\">:</span><a href=\"file:///mnt/netapp1/Store_CESGA/home/cesga/fyanez/manim_ce/manim_env/lib/python3.10/site-packages/manim/scene/scene_file_writer.py#527\" target=\"_blank\"><span style=\"color: #7f7f7f; text-decoration-color: #7f7f7f\">527</span></a>\n",
       "<span style=\"color: #7fbfbf; text-decoration-color: #7fbfbf\">                    </span>         <span style=\"color: #008000; text-decoration-color: #008000\">'/mnt/netapp1/Store_CESGA/home/cesga/fyanez/manim_ce/media/vi</span> <span style=\"color: #7f7f7f; text-decoration-color: #7f7f7f\">                        </span>\n",
       "<span style=\"color: #7fbfbf; text-decoration-color: #7fbfbf\">                    </span>         <span style=\"color: #008000; text-decoration-color: #008000\">deos/manim_ce/2160p60/partial_movie_files/EscenaConAnimacione</span> <span style=\"color: #7f7f7f; text-decoration-color: #7f7f7f\">                        </span>\n",
       "<span style=\"color: #7fbfbf; text-decoration-color: #7fbfbf\">                    </span>         <span style=\"color: #008000; text-decoration-color: #008000\">s/1993220219_1931842622_3835078996.mp4'</span>                       <span style=\"color: #7f7f7f; text-decoration-color: #7f7f7f\">                        </span>\n",
       "</pre>\n"
      ],
      "text/plain": [
       "\u001b[2;36m[01/08/25 14:45:12]\u001b[0m\u001b[2;36m \u001b[0m\u001b[32mINFO    \u001b[0m Animation \u001b[32m9\u001b[0m : Partial movie file written in                   \u001b]8;id=530008;file:///mnt/netapp1/Store_CESGA/home/cesga/fyanez/manim_ce/manim_env/lib/python3.10/site-packages/manim/scene/scene_file_writer.py\u001b\\\u001b[2mscene_file_writer.py\u001b[0m\u001b]8;;\u001b\\\u001b[2m:\u001b[0m\u001b]8;id=495243;file:///mnt/netapp1/Store_CESGA/home/cesga/fyanez/manim_ce/manim_env/lib/python3.10/site-packages/manim/scene/scene_file_writer.py#527\u001b\\\u001b[2m527\u001b[0m\u001b]8;;\u001b\\\n",
       "\u001b[2;36m                    \u001b[0m         \u001b[32m'/mnt/netapp1/Store_CESGA/home/cesga/fyanez/manim_ce/media/vi\u001b[0m \u001b[2m                        \u001b[0m\n",
       "\u001b[2;36m                    \u001b[0m         \u001b[32mdeos/manim_ce/2160p60/partial_movie_files/EscenaConAnimacione\u001b[0m \u001b[2m                        \u001b[0m\n",
       "\u001b[2;36m                    \u001b[0m         \u001b[32ms/1993220219_1931842622_3835078996.mp4'\u001b[0m                       \u001b[2m                        \u001b[0m\n"
      ]
     },
     "metadata": {},
     "output_type": "display_data"
    },
    {
     "data": {
      "text/html": [
       "<pre style=\"white-space:pre;overflow-x:auto;line-height:normal;font-family:Menlo,'DejaVu Sans Mono',consolas,'Courier New',monospace\"><span style=\"color: #7fbfbf; text-decoration-color: #7fbfbf\">[01/08/25 14:45:17] </span><span style=\"color: #008000; text-decoration-color: #008000\">INFO    </span> Animation <span style=\"color: #008000; text-decoration-color: #008000\">10</span> : Partial movie file written in                  <a href=\"file:///mnt/netapp1/Store_CESGA/home/cesga/fyanez/manim_ce/manim_env/lib/python3.10/site-packages/manim/scene/scene_file_writer.py\" target=\"_blank\"><span style=\"color: #7f7f7f; text-decoration-color: #7f7f7f\">scene_file_writer.py</span></a><span style=\"color: #7f7f7f; text-decoration-color: #7f7f7f\">:</span><a href=\"file:///mnt/netapp1/Store_CESGA/home/cesga/fyanez/manim_ce/manim_env/lib/python3.10/site-packages/manim/scene/scene_file_writer.py#527\" target=\"_blank\"><span style=\"color: #7f7f7f; text-decoration-color: #7f7f7f\">527</span></a>\n",
       "<span style=\"color: #7fbfbf; text-decoration-color: #7fbfbf\">                    </span>         <span style=\"color: #008000; text-decoration-color: #008000\">'/mnt/netapp1/Store_CESGA/home/cesga/fyanez/manim_ce/media/vi</span> <span style=\"color: #7f7f7f; text-decoration-color: #7f7f7f\">                        </span>\n",
       "<span style=\"color: #7fbfbf; text-decoration-color: #7fbfbf\">                    </span>         <span style=\"color: #008000; text-decoration-color: #008000\">deos/manim_ce/2160p60/partial_movie_files/EscenaConAnimacione</span> <span style=\"color: #7f7f7f; text-decoration-color: #7f7f7f\">                        </span>\n",
       "<span style=\"color: #7fbfbf; text-decoration-color: #7fbfbf\">                    </span>         <span style=\"color: #008000; text-decoration-color: #008000\">s/1993220219_1733944848_2914464281.mp4'</span>                       <span style=\"color: #7f7f7f; text-decoration-color: #7f7f7f\">                        </span>\n",
       "</pre>\n"
      ],
      "text/plain": [
       "\u001b[2;36m[01/08/25 14:45:17]\u001b[0m\u001b[2;36m \u001b[0m\u001b[32mINFO    \u001b[0m Animation \u001b[32m10\u001b[0m : Partial movie file written in                  \u001b]8;id=35981;file:///mnt/netapp1/Store_CESGA/home/cesga/fyanez/manim_ce/manim_env/lib/python3.10/site-packages/manim/scene/scene_file_writer.py\u001b\\\u001b[2mscene_file_writer.py\u001b[0m\u001b]8;;\u001b\\\u001b[2m:\u001b[0m\u001b]8;id=293237;file:///mnt/netapp1/Store_CESGA/home/cesga/fyanez/manim_ce/manim_env/lib/python3.10/site-packages/manim/scene/scene_file_writer.py#527\u001b\\\u001b[2m527\u001b[0m\u001b]8;;\u001b\\\n",
       "\u001b[2;36m                    \u001b[0m         \u001b[32m'/mnt/netapp1/Store_CESGA/home/cesga/fyanez/manim_ce/media/vi\u001b[0m \u001b[2m                        \u001b[0m\n",
       "\u001b[2;36m                    \u001b[0m         \u001b[32mdeos/manim_ce/2160p60/partial_movie_files/EscenaConAnimacione\u001b[0m \u001b[2m                        \u001b[0m\n",
       "\u001b[2;36m                    \u001b[0m         \u001b[32ms/1993220219_1733944848_2914464281.mp4'\u001b[0m                       \u001b[2m                        \u001b[0m\n"
      ]
     },
     "metadata": {},
     "output_type": "display_data"
    },
    {
     "data": {
      "text/html": [
       "<pre style=\"white-space:pre;overflow-x:auto;line-height:normal;font-family:Menlo,'DejaVu Sans Mono',consolas,'Courier New',monospace\"><span style=\"color: #7fbfbf; text-decoration-color: #7fbfbf\">                    </span><span style=\"color: #008000; text-decoration-color: #008000\">INFO    </span> Combining to Movie file.                                      <a href=\"file:///mnt/netapp1/Store_CESGA/home/cesga/fyanez/manim_ce/manim_env/lib/python3.10/site-packages/manim/scene/scene_file_writer.py\" target=\"_blank\"><span style=\"color: #7f7f7f; text-decoration-color: #7f7f7f\">scene_file_writer.py</span></a><span style=\"color: #7f7f7f; text-decoration-color: #7f7f7f\">:</span><a href=\"file:///mnt/netapp1/Store_CESGA/home/cesga/fyanez/manim_ce/manim_env/lib/python3.10/site-packages/manim/scene/scene_file_writer.py#617\" target=\"_blank\"><span style=\"color: #7f7f7f; text-decoration-color: #7f7f7f\">617</span></a>\n",
       "</pre>\n"
      ],
      "text/plain": [
       "\u001b[2;36m                   \u001b[0m\u001b[2;36m \u001b[0m\u001b[32mINFO    \u001b[0m Combining to Movie file.                                      \u001b]8;id=762279;file:///mnt/netapp1/Store_CESGA/home/cesga/fyanez/manim_ce/manim_env/lib/python3.10/site-packages/manim/scene/scene_file_writer.py\u001b\\\u001b[2mscene_file_writer.py\u001b[0m\u001b]8;;\u001b\\\u001b[2m:\u001b[0m\u001b]8;id=227859;file:///mnt/netapp1/Store_CESGA/home/cesga/fyanez/manim_ce/manim_env/lib/python3.10/site-packages/manim/scene/scene_file_writer.py#617\u001b\\\u001b[2m617\u001b[0m\u001b]8;;\u001b\\\n"
      ]
     },
     "metadata": {},
     "output_type": "display_data"
    },
    {
     "data": {
      "text/html": [
       "<pre style=\"white-space:pre;overflow-x:auto;line-height:normal;font-family:Menlo,'DejaVu Sans Mono',consolas,'Courier New',monospace\"><span style=\"color: #7fbfbf; text-decoration-color: #7fbfbf\">[01/08/25 14:45:18] </span><span style=\"color: #008000; text-decoration-color: #008000\">INFO    </span>                                                               <a href=\"file:///mnt/netapp1/Store_CESGA/home/cesga/fyanez/manim_ce/manim_env/lib/python3.10/site-packages/manim/scene/scene_file_writer.py\" target=\"_blank\"><span style=\"color: #7f7f7f; text-decoration-color: #7f7f7f\">scene_file_writer.py</span></a><span style=\"color: #7f7f7f; text-decoration-color: #7f7f7f\">:</span><a href=\"file:///mnt/netapp1/Store_CESGA/home/cesga/fyanez/manim_ce/manim_env/lib/python3.10/site-packages/manim/scene/scene_file_writer.py#737\" target=\"_blank\"><span style=\"color: #7f7f7f; text-decoration-color: #7f7f7f\">737</span></a>\n",
       "<span style=\"color: #7fbfbf; text-decoration-color: #7fbfbf\">                    </span>         <span style=\"color: #808000; text-decoration-color: #808000; font-weight: bold\">File</span> ready at                                                 <span style=\"color: #7f7f7f; text-decoration-color: #7f7f7f\">                        </span>\n",
       "<span style=\"color: #7fbfbf; text-decoration-color: #7fbfbf\">                    </span>         <span style=\"color: #008000; text-decoration-color: #008000\">'/mnt/netapp1/Store_CESGA/home/cesga/fyanez/manim_ce/media/vi</span> <span style=\"color: #7f7f7f; text-decoration-color: #7f7f7f\">                        </span>\n",
       "<span style=\"color: #7fbfbf; text-decoration-color: #7fbfbf\">                    </span>         <span style=\"color: #008000; text-decoration-color: #008000\">deos/manim_ce/2160p60/EscenaConAnimaciones.mp4'</span>               <span style=\"color: #7f7f7f; text-decoration-color: #7f7f7f\">                        </span>\n",
       "<span style=\"color: #7fbfbf; text-decoration-color: #7fbfbf\">                    </span>                                                                       <span style=\"color: #7f7f7f; text-decoration-color: #7f7f7f\">                        </span>\n",
       "</pre>\n"
      ],
      "text/plain": [
       "\u001b[2;36m[01/08/25 14:45:18]\u001b[0m\u001b[2;36m \u001b[0m\u001b[32mINFO    \u001b[0m                                                               \u001b]8;id=200047;file:///mnt/netapp1/Store_CESGA/home/cesga/fyanez/manim_ce/manim_env/lib/python3.10/site-packages/manim/scene/scene_file_writer.py\u001b\\\u001b[2mscene_file_writer.py\u001b[0m\u001b]8;;\u001b\\\u001b[2m:\u001b[0m\u001b]8;id=356049;file:///mnt/netapp1/Store_CESGA/home/cesga/fyanez/manim_ce/manim_env/lib/python3.10/site-packages/manim/scene/scene_file_writer.py#737\u001b\\\u001b[2m737\u001b[0m\u001b]8;;\u001b\\\n",
       "\u001b[2;36m                    \u001b[0m         \u001b[1;33mFile\u001b[0m ready at                                                 \u001b[2m                        \u001b[0m\n",
       "\u001b[2;36m                    \u001b[0m         \u001b[32m'/mnt/netapp1/Store_CESGA/home/cesga/fyanez/manim_ce/media/vi\u001b[0m \u001b[2m                        \u001b[0m\n",
       "\u001b[2;36m                    \u001b[0m         \u001b[32mdeos/manim_ce/2160p60/EscenaConAnimaciones.mp4'\u001b[0m               \u001b[2m                        \u001b[0m\n",
       "\u001b[2;36m                    \u001b[0m                                                                       \u001b[2m                        \u001b[0m\n"
      ]
     },
     "metadata": {},
     "output_type": "display_data"
    },
    {
     "data": {
      "text/html": [
       "<pre style=\"white-space:pre;overflow-x:auto;line-height:normal;font-family:Menlo,'DejaVu Sans Mono',consolas,'Courier New',monospace\"><span style=\"color: #7fbfbf; text-decoration-color: #7fbfbf\">                    </span><span style=\"color: #008000; text-decoration-color: #008000\">INFO    </span> <span style=\"color: #808000; text-decoration-color: #808000; font-weight: bold\">Rendered</span> EscenaConAnimaciones                                             <a href=\"file:///mnt/netapp1/Store_CESGA/home/cesga/fyanez/manim_ce/manim_env/lib/python3.10/site-packages/manim/scene/scene.py\" target=\"_blank\"><span style=\"color: #7f7f7f; text-decoration-color: #7f7f7f\">scene.py</span></a><span style=\"color: #7f7f7f; text-decoration-color: #7f7f7f\">:</span><a href=\"file:///mnt/netapp1/Store_CESGA/home/cesga/fyanez/manim_ce/manim_env/lib/python3.10/site-packages/manim/scene/scene.py#247\" target=\"_blank\"><span style=\"color: #7f7f7f; text-decoration-color: #7f7f7f\">247</span></a>\n",
       "<span style=\"color: #7fbfbf; text-decoration-color: #7fbfbf\">                    </span>         <span style=\"color: #808000; text-decoration-color: #808000; font-weight: bold\">Played</span> <span style=\"color: #008000; text-decoration-color: #008000\">11</span> <span style=\"color: #808000; text-decoration-color: #808000; font-weight: bold\">animations</span>                                                      <span style=\"color: #7f7f7f; text-decoration-color: #7f7f7f\">            </span>\n",
       "</pre>\n"
      ],
      "text/plain": [
       "\u001b[2;36m                   \u001b[0m\u001b[2;36m \u001b[0m\u001b[32mINFO    \u001b[0m \u001b[1;33mRendered\u001b[0m EscenaConAnimaciones                                             \u001b]8;id=489361;file:///mnt/netapp1/Store_CESGA/home/cesga/fyanez/manim_ce/manim_env/lib/python3.10/site-packages/manim/scene/scene.py\u001b\\\u001b[2mscene.py\u001b[0m\u001b]8;;\u001b\\\u001b[2m:\u001b[0m\u001b]8;id=856577;file:///mnt/netapp1/Store_CESGA/home/cesga/fyanez/manim_ce/manim_env/lib/python3.10/site-packages/manim/scene/scene.py#247\u001b\\\u001b[2m247\u001b[0m\u001b]8;;\u001b\\\n",
       "\u001b[2;36m                    \u001b[0m         \u001b[1;33mPlayed\u001b[0m \u001b[32m11\u001b[0m \u001b[1;33manimations\u001b[0m                                                      \u001b[2m            \u001b[0m\n"
      ]
     },
     "metadata": {},
     "output_type": "display_data"
    },
    {
     "data": {
      "text/html": [
       "<video src=\"media/jupyter/EscenaConAnimaciones@2025-01-08@14-45-18.mp4\" controls autoplay loop style=\"max-width: 60%;\"  >\n",
       "      Your browser does not support the <code>video</code> element.\n",
       "    </video>"
      ],
      "text/plain": [
       "<IPython.core.display.Video object>"
      ]
     },
     "metadata": {},
     "output_type": "display_data"
    }
   ],
   "source": [
    "%%manim -qk -vINFO  EscenaConAnimaciones\n",
    "\n",
    "class EscenaConAnimaciones(Scene):\n",
    "    def construct(self):\n",
    "\n",
    "        Texto = Text('Esto es una escena sencilla', t2c={\"escena sencilla\": YELLOW})\n",
    "        self.play(Write(Texto))\n",
    "        self.wait()\n",
    "        self.play(Texto.animate.to_edge(UL), run_time=1)\n",
    "        self.wait(3)\n",
    "\n",
    "        Cuadrado = Square(color=BLUE)\n",
    "        \n",
    "        self.play(Create(Cuadrado))\n",
    "        self.play(Cuadrado.animate.shift(2*LEFT + UP))\n",
    "        self.play(Cuadrado.animate.scale(0.3))\n",
    "        self.play(Cuadrado.animate.rotate(0.4))\n",
    "        self.wait()\n",
    "\n",
    "        Estrella= Star(n=9, color=RED, fill_opacity=1)\n",
    "        self.play(Transform(Cuadrado, Estrella))\n",
    "        self.wait()"
   ]
  },
  {
   "cell_type": "markdown",
   "id": "f28a246b-96a4-4fea-8fe2-339f59fcde1a",
   "metadata": {},
   "source": [
    "Como véis, en pocas líneas, se pueden conseguir resultados muy visuales. Vayamos paso a paso comentando las novedades que hemos añadido para poder crear esta animación:\n",
    "```\n",
    "        Texto = Text('Esto es una escena sencilla', t2c={\"escena sencilla\": YELLOW})\n",
    "        self.play(Write(Texto))\n",
    "        self.wait()\n",
    "        self.play(Texto.animate.to_edge(UL), run_time=1)\n",
    "        self.wait(3)\n",
    "```\n",
    "Lo primero que ponemos es la parte que se refiere a crear el texto, `Text('Esto es una escena sencilla')`. Empleando el parámetro `t2c={\"escena sencilla\": YELLOW}` podemos cambiar el color de la parte del texto que elijamos, en nuestro ejemplo, solo queremos resaltar *escena sencilla*.\n",
    "\n",
    "Ahora, lo que es muy cómodo es la facilidad con la que se anima la escritura del texto. Solo empleando la **animación** `Write` podemos hacer que cualquier texto, sea `Text, Tex, MathTex`, se escriba solo automáticamente con una animación muy vistosa. Para que se ejecute una animación en la escena, es necesario que se haga con el método `self.play`.  \n",
    "Después de que se escriba, hacemos que la escena espere dos segundos con el método `self.wait()`. Si le indicamos un número dentro, podremos hacer que espere una cantidad distinta de dos segundos, con `self.wait(3)` para que espere tres segundos, o el tiempo se necesite.  \n",
    "Luego, vemos como tras esperar, usando el método `animate` en el MObject que queramos, podemos animar cosas como traslaciones. En este caso, animamos que el texto se mueva al eje superior izquierdo con `Texto.animate.to_edge(UL)`. Además, podemos controlar el tiempo que tarda en hacerse dicha animación con el parámetro `run_time=1`. En este caso, se hará en un segundo, pero podemos ponerle el valor que queramos. Por defecto, las animaciones se ejecutan en dos segundos.  \n",
    "Antes de pasar a la siguiente sección, esperamos tres segundos con `self.wait(3)`.\n",
    "```\n",
    "        Cuadrado = Square(color=BLUE)\n",
    "        \n",
    "        self.play(Create(Cuadrado))\n",
    "        self.play(Cuadrado.animate.shift(2*LEFT+ UP))\n",
    "        self.play(Cuadrado.animate.scale(0.3))\n",
    "        self.play(Cuadrado.animate.rotate(0.4))\n",
    "        self.wait()\n",
    "```\n",
    "En esta parte, vamos a animar una serie de acciones sobre un cuadrado. Definimos este como un cuadrado con el borde azul con `Square(color=BLUE)`\n",
    "Luego con `self.play` creamos el cuadrado con la animación `Create`, y ejecutamos en cadena todas las animaciones con métodos del objeto cuadrado empleando el método `animate`. Estas son un movimiento dos unidades hacia la derecha y una hacia arriba (`shift(2*LEFT+ UP)`). Luego, reducimos el tamaño de cuadrado y lo rotamos un poco con `scale(0.3)` y con `rotate(0.4)`. Finalmente, esperamos dos segundos antes de ir a la última parte de la animación.\n",
    "```\n",
    "        Estrella= Star(n=9, color=RED, fill_opacity=1)\n",
    "        self.play(Transform(Cuadrado, Estrella))\n",
    "        self.wait()\n",
    "````\n",
    "Para acabar, vamos a animar como el cuadrado se transforma en una estrella de nueve puntas roja. Creamos esta estrella con `Star(n=9, color=RED, fill_opacity=1)`. Y la transformación, es tan sencillo como darle a la animación `Transform` el objeto a transformar y en cuál quieres que se convierta. En nuestro ejemplo, que el cuadrado se transforme en la estrella (`Transform(Cuadrado, Estrella)`). \n",
    "\n",
    "Os dejo aquí todas las [animaciones](https://docs.manim.community/en/stable/reference_index/animations.html 'https://docs.manim.community/en/stable/reference_index/animations.html') que existen en manim"
   ]
  },
  {
   "cell_type": "markdown",
   "id": "879cfe76-38f5-4bcb-8899-7070db96b96f",
   "metadata": {},
   "source": [
    "## 5. Detalles finales"
   ]
  },
  {
   "cell_type": "markdown",
   "id": "614fe98e-ddd4-4331-b885-343dbbb9627b",
   "metadata": {},
   "source": [
    "Como habéis visto, esta librería pone nuestra disposición una cantidad de herramientas que hace que podamos aniamr práctimente cualquier concepto matemático que se nos pase por la cabeza. Pero antes de irme, dejaré aqui anotado a modo de cajón de sastre varias cosas que, por no quitaros mas tiempo del necesario, no he profundizado con el tiempo que merece:"
   ]
  },
  {
   "cell_type": "markdown",
   "id": "6d17bef4-fbca-440a-9ce6-19f41bcc674a",
   "metadata": {},
   "source": [
    "### 5.1 ManimCE vs ManimGL"
   ]
  },
  {
   "cell_type": "markdown",
   "id": "d5a903d8-17df-4d4d-9f9d-56a763aaefee",
   "metadata": {},
   "source": [
    "Es muy importante que tengáis en cuenta que actualmente **hay dos paquetes diferentes que se llaman *MANIM***. Uno es del que hemos estado hablando, que es **Manim Community Edition**, que tiene una documentación muy detallada y es el que está mas estructurado. Por otro lado existe la version que usa Grant Sanderson, el creador de Manim para hacer sus animaciones y videos: **Manim GL**. Este paquete tiene más funcionalidades, pero carece de una documentación tan clara y buena como la que tiene la edición de la comunidad.  \n",
    "Yo prefiero usar la edición de la comunidad por accesibilidad, porque está muy bien documentada y es más facil de debbugear. Además, las aportaciones que se hace a la edición ManimGL, suelen añadirse con el tiempo a la edición de la comunidad. Pero es importante saber esto cuando buscas información de manim por internet."
   ]
  },
  {
   "cell_type": "markdown",
   "id": "68f28f02-bb6a-4d93-9f4d-9fc7225250dc",
   "metadata": {},
   "source": [
    "### 5.2 Cosas importantes que no he mencionado"
   ]
  },
  {
   "cell_type": "markdown",
   "id": "7a08520d-e6f6-439d-8c16-1d89fd978959",
   "metadata": {},
   "source": [
    "Por brevedad, solo he tratado los tres temas clave para poder hacer animaciones básicas en manim. Pero hay muchas otras cosas de las que se puede aprender más para usar manim en todo su potencial. Dejo aquí anotados estos conceptos para que los exploréis si vuestros proyectos requieren usarlos:\n",
    "* Los updaters: Los updater son funciones de Python que se aplican en cada escena. Son super potentes para poder hacer que un cierto conjunto de acciones (rotar un objeto, trazar una trayectoria, ...) se aplique de forma seguida y elegante. Hay que añadirlos a los MObjects con el método `MObject.add_updater(<función que quieras>)`. Os dejo un [tutorial en el que explican como usarlos](https://www.youtube.com/watch?v=3Duf3g_Wkqs&ab_channel=Varniex 'https://www.youtube.com/watch?v=3Duf3g_Wkqs&ab_channel=Varniex') con un ejemplo muy bonito.  \n",
    "* La cámara: La camará es un objeto tammbién en manim al que le puedes aplicar una serie de métodos para jugar con ella (moverla, rotarla, acercarla, ...). Además, dependiendo del tipo de escena que uses, es fundamental tenerla en cuenta para obtener buenos resultados, como en las escenas en tres dimensiones. Os dejo la referencia a la camara del API [aquí.](https://docs.manim.community/en/stable/reference_index/cameras.html 'https://docs.manim.community/en/stable/reference_index/cameras.html').  \n",
    "* Plugins: Manim tiene una serie de plugins muy útiles que pueden ampliar todavía mas las cosas que se pueden hacer con manim. En este mismo entorno, he instalado un plugin que es `manim-slides`, con el que podéis convertir los videos en presentaciones que usar en conferencias o clases. Os animo a probarlo y os dejo la documentación [aquí](https://manim-slides.eertmans.be/latest/ 'https://manim-slides.eertmans.be/latest/'). También podéis bucear por internet y buscar otros plugins para manim."
   ]
  },
  {
   "cell_type": "markdown",
   "id": "e558508d-c883-4164-a5a5-2e756172a017",
   "metadata": {},
   "source": [
    "### 5.3 ¿Dónde puedo encontrar los vídeos que he animado?"
   ]
  },
  {
   "cell_type": "markdown",
   "id": "c845a97d-a4ef-45ab-80fe-5016f4805f8a",
   "metadata": {},
   "source": [
    "Los vídeos que hagáis se guardarán automáticamente en `$STORE/manim_ce/media`. En esa carpeta está toda la información que vayáis generando con manim, desde las fórmulas que escribáis hasta las imágenes que generéis, pero los videos en sí estarán en `$STORE/manim_ce/media/videos/manim_ce/<la resuloción que hayáis escogido>`. Ahí tendreís los vídeos en formato `.mp4` y las animaciones divididas una a por una en la carpeta `partial_movie_files`. Muy útil si queréis concatenarlas una a una manualmente en un PowerPoint o si solo os interesa ver una de las partes de vuestras animaciones"
   ]
  },
  {
   "cell_type": "markdown",
   "id": "c6928ecb-cd5f-4e36-a22c-9cfdde762389",
   "metadata": {},
   "source": [
    "### 5.4 Consejos finales"
   ]
  },
  {
   "cell_type": "markdown",
   "id": "d6529298-fab2-4474-b4e5-7d8478e7257d",
   "metadata": {},
   "source": [
    "Aunque os haya puesto ahora ejemplos muy sencillos para introduciros a la librería, sería deshonesto decir que manim, como cualquier cosa en este mundo, no tiene una curva de aprendizaje que se puede empinar bastante en ocasiones. Por ello, voy a dejaros una serie de consejos y conceptos que he aprendido tras algo más de un año usando frecuentemente esta librería:\n",
    "1. [**MIRAR LA DOCUMENTACIÓN DE MANIM**](https://docs.manim.community/en/stable/index.html, 'https://docs.manim.community/en/stable/index.html'): Este consejo es sin duda el más importante. No paréis de navegar y empaparos de la documentación y ejemplos que esta librería ofrece. Os la he dejado por muchos sitios en este notebook, pero no puedo insistir lo suficiente en lo importante que es conocer bien los métodos y propiedades de esta librería. Os vuelvo a dejar [aquí](https://docs.manim.community/en/stable/index.html, 'https://docs.manim.community/en/stable/index.html') una vez mas la documentación por si no la hubieseis visto aún.\n",
    "2. Siempre que manim tenga un método para agilizar una función que hayas hecho tu, úsalo. Y si un concepto es fácil de entender (mover algo, seleccionar el primer o último elemento de un conjunto, aplicar una trasnformación sencilla a un objeto, ...), lo mas probable es que manim tenga un método para automatizarlo. Úsalo.\n",
    "3. ChatGPT sabe programar en Manim decentemente. No hace todos los ejemplos perfectos, de vez en cuando se inventa los métodos y no es la primera vez que he visto que directamente se inventa las animaciones o los MObjects; pero a grandes rasgos sabe hacer correctamente las estructuras de los códigos y hacer cosas básicas como las que hicimos en este notebook. Recomiendo que probéis a ver cómo hace ChatGPT las ideas que le déis en manim, sobre todo si son sencillas y/o sabéis detallarselas bien.\n",
    "4. Evita mezclar listas y otro tipos de grupos al usar manim, y emplea `VGroup` en su lugar. Ofrece muchas ventajas al usar sus métodos y tiene exactamente la misma notación que los arrays de numpy.\n",
    "5. Crea tus propias funciones en Python o objetos para agilizar animaciones y proyectos más avanzados.\n",
    "6. **Cuanta más experiencia tengas programando en Python, mejor**. A veces, los problemas o limitaciones que tiene manim, salen de no saber traduccir el problema a lenguaje Python de forma sencilla, por eso recomendé al principio manejar bien Python.\n",
    "7. **MIRA LA DOCUMENTACIÓN**"
   ]
  }
 ],
 "metadata": {
  "kernelspec": {
   "display_name": "Python 3 (ipykernel)",
   "language": "python",
   "name": "python3"
  },
  "language_info": {
   "codemirror_mode": {
    "name": "ipython",
    "version": 3
   },
   "file_extension": ".py",
   "mimetype": "text/x-python",
   "name": "python",
   "nbconvert_exporter": "python",
   "pygments_lexer": "ipython3",
   "version": "3.10.8"
  }
 },
 "nbformat": 4,
 "nbformat_minor": 5
}
